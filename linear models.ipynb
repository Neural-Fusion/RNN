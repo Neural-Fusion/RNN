{
 "cells": [
  {
   "cell_type": "code",
   "execution_count": 3,
   "id": "cf10e942-81da-4059-8714-8f933b8ab59f",
   "metadata": {},
   "outputs": [],
   "source": [
    "import numpy as np\n",
    "import pandas as pd\n",
    "from sklearn.linear_model import Ridge\n",
    "from sklearn.linear_model import Lasso\n",
    "from sklearn.model_selection import train_test_split\n",
    "from sklearn.metrics import mean_squared_error"
   ]
  },
  {
   "cell_type": "code",
   "execution_count": 4,
   "id": "908f338f-ae3e-4c71-92d2-cdb82199d9fd",
   "metadata": {},
   "outputs": [
    {
     "data": {
      "text/html": [
       "<div>\n",
       "<style scoped>\n",
       "    .dataframe tbody tr th:only-of-type {\n",
       "        vertical-align: middle;\n",
       "    }\n",
       "\n",
       "    .dataframe tbody tr th {\n",
       "        vertical-align: top;\n",
       "    }\n",
       "\n",
       "    .dataframe thead th {\n",
       "        text-align: right;\n",
       "    }\n",
       "</style>\n",
       "<table border=\"1\" class=\"dataframe\">\n",
       "  <thead>\n",
       "    <tr style=\"text-align: right;\">\n",
       "      <th></th>\n",
       "      <th>R&amp;D Spend</th>\n",
       "      <th>Administration</th>\n",
       "      <th>Marketing Spend</th>\n",
       "      <th>State</th>\n",
       "      <th>Profit</th>\n",
       "    </tr>\n",
       "  </thead>\n",
       "  <tbody>\n",
       "    <tr>\n",
       "      <th>0</th>\n",
       "      <td>165349.20</td>\n",
       "      <td>136897.80</td>\n",
       "      <td>471784.10</td>\n",
       "      <td>New York</td>\n",
       "      <td>192261.83</td>\n",
       "    </tr>\n",
       "    <tr>\n",
       "      <th>1</th>\n",
       "      <td>162597.70</td>\n",
       "      <td>151377.59</td>\n",
       "      <td>443898.53</td>\n",
       "      <td>California</td>\n",
       "      <td>191792.06</td>\n",
       "    </tr>\n",
       "    <tr>\n",
       "      <th>2</th>\n",
       "      <td>153441.51</td>\n",
       "      <td>101145.55</td>\n",
       "      <td>407934.54</td>\n",
       "      <td>Florida</td>\n",
       "      <td>191050.39</td>\n",
       "    </tr>\n",
       "    <tr>\n",
       "      <th>3</th>\n",
       "      <td>144372.41</td>\n",
       "      <td>118671.85</td>\n",
       "      <td>383199.62</td>\n",
       "      <td>New York</td>\n",
       "      <td>182901.99</td>\n",
       "    </tr>\n",
       "    <tr>\n",
       "      <th>4</th>\n",
       "      <td>142107.34</td>\n",
       "      <td>91391.77</td>\n",
       "      <td>366168.42</td>\n",
       "      <td>Florida</td>\n",
       "      <td>166187.94</td>\n",
       "    </tr>\n",
       "  </tbody>\n",
       "</table>\n",
       "</div>"
      ],
      "text/plain": [
       "   R&D Spend  Administration  Marketing Spend       State     Profit\n",
       "0  165349.20       136897.80        471784.10    New York  192261.83\n",
       "1  162597.70       151377.59        443898.53  California  191792.06\n",
       "2  153441.51       101145.55        407934.54     Florida  191050.39\n",
       "3  144372.41       118671.85        383199.62    New York  182901.99\n",
       "4  142107.34        91391.77        366168.42     Florida  166187.94"
      ]
     },
     "execution_count": 4,
     "metadata": {},
     "output_type": "execute_result"
    }
   ],
   "source": [
    "#linear models \n",
    "df=pd.read_csv('50.csv')\n",
    "df.head()"
   ]
  },
  {
   "cell_type": "code",
   "execution_count": 5,
   "id": "2a272718-deb9-4f82-9820-d0842fd12272",
   "metadata": {},
   "outputs": [
    {
     "data": {
      "text/plain": [
       "R&D Spend          0\n",
       "Administration     0\n",
       "Marketing Spend    0\n",
       "State              0\n",
       "Profit             0\n",
       "dtype: int64"
      ]
     },
     "execution_count": 5,
     "metadata": {},
     "output_type": "execute_result"
    }
   ],
   "source": [
    "df.isna().sum() #it show how much data is none in col"
   ]
  },
  {
   "cell_type": "code",
   "execution_count": 6,
   "id": "2f496305-f1b3-45cd-8065-db254ca294d7",
   "metadata": {},
   "outputs": [
    {
     "data": {
      "text/plain": [
       "R&D Spend          49\n",
       "Administration     50\n",
       "Marketing Spend    48\n",
       "State               3\n",
       "Profit             50\n",
       "dtype: int64"
      ]
     },
     "execution_count": 6,
     "metadata": {},
     "output_type": "execute_result"
    }
   ],
   "source": [
    "df.nunique() #how many different values in every coloumn"
   ]
  },
  {
   "cell_type": "code",
   "execution_count": 7,
   "id": "ce2f49a3-189d-4234-86e4-cce89c01bee0",
   "metadata": {},
   "outputs": [
    {
     "data": {
      "text/html": [
       "<div>\n",
       "<style scoped>\n",
       "    .dataframe tbody tr th:only-of-type {\n",
       "        vertical-align: middle;\n",
       "    }\n",
       "\n",
       "    .dataframe tbody tr th {\n",
       "        vertical-align: top;\n",
       "    }\n",
       "\n",
       "    .dataframe thead th {\n",
       "        text-align: right;\n",
       "    }\n",
       "</style>\n",
       "<table border=\"1\" class=\"dataframe\">\n",
       "  <thead>\n",
       "    <tr style=\"text-align: right;\">\n",
       "      <th></th>\n",
       "      <th>R&amp;D Spend</th>\n",
       "      <th>Administration</th>\n",
       "      <th>Marketing Spend</th>\n",
       "      <th>State</th>\n",
       "      <th>Profit</th>\n",
       "    </tr>\n",
       "  </thead>\n",
       "  <tbody>\n",
       "    <tr>\n",
       "      <th>0</th>\n",
       "      <td>165349.20</td>\n",
       "      <td>136897.80</td>\n",
       "      <td>471784.10</td>\n",
       "      <td>New York</td>\n",
       "      <td>192261.83</td>\n",
       "    </tr>\n",
       "    <tr>\n",
       "      <th>1</th>\n",
       "      <td>162597.70</td>\n",
       "      <td>151377.59</td>\n",
       "      <td>443898.53</td>\n",
       "      <td>California</td>\n",
       "      <td>191792.06</td>\n",
       "    </tr>\n",
       "    <tr>\n",
       "      <th>2</th>\n",
       "      <td>153441.51</td>\n",
       "      <td>101145.55</td>\n",
       "      <td>407934.54</td>\n",
       "      <td>Florida</td>\n",
       "      <td>191050.39</td>\n",
       "    </tr>\n",
       "    <tr>\n",
       "      <th>3</th>\n",
       "      <td>144372.41</td>\n",
       "      <td>118671.85</td>\n",
       "      <td>383199.62</td>\n",
       "      <td>New York</td>\n",
       "      <td>182901.99</td>\n",
       "    </tr>\n",
       "    <tr>\n",
       "      <th>4</th>\n",
       "      <td>142107.34</td>\n",
       "      <td>91391.77</td>\n",
       "      <td>366168.42</td>\n",
       "      <td>Florida</td>\n",
       "      <td>166187.94</td>\n",
       "    </tr>\n",
       "  </tbody>\n",
       "</table>\n",
       "</div>"
      ],
      "text/plain": [
       "   R&D Spend  Administration  Marketing Spend       State     Profit\n",
       "0  165349.20       136897.80        471784.10    New York  192261.83\n",
       "1  162597.70       151377.59        443898.53  California  191792.06\n",
       "2  153441.51       101145.55        407934.54     Florida  191050.39\n",
       "3  144372.41       118671.85        383199.62    New York  182901.99\n",
       "4  142107.34        91391.77        366168.42     Florida  166187.94"
      ]
     },
     "execution_count": 7,
     "metadata": {},
     "output_type": "execute_result"
    }
   ],
   "source": [
    "df['State'].fillna(0)\n",
    "df.head()"
   ]
  },
  {
   "cell_type": "code",
   "execution_count": 8,
   "id": "9495df8e-1239-4ea3-bbd5-4e2bca9e890a",
   "metadata": {},
   "outputs": [
    {
     "name": "stdout",
     "output_type": "stream",
     "text": [
      "    R&D Spend  Administration  Marketing Spend     Profit  State_California  \\\n",
      "0   165349.20       136897.80        471784.10  192261.83             False   \n",
      "1   162597.70       151377.59        443898.53  191792.06              True   \n",
      "2   153441.51       101145.55        407934.54  191050.39             False   \n",
      "3   144372.41       118671.85        383199.62  182901.99             False   \n",
      "4   142107.34        91391.77        366168.42  166187.94             False   \n",
      "5   131876.90        99814.71        362861.36  156991.12             False   \n",
      "6   134615.46       147198.87        127716.82  156122.51              True   \n",
      "7   130298.13       145530.06        323876.68  155752.60             False   \n",
      "8   120542.52       148718.95        311613.29  152211.77             False   \n",
      "9   123334.88       108679.17        304981.62  149759.96              True   \n",
      "10  101913.08       110594.11        229160.95  146121.95             False   \n",
      "11  100671.96        91790.61        249744.55  144259.40              True   \n",
      "12   93863.75       127320.38        249839.44  141585.52             False   \n",
      "13   91992.39       135495.07        252664.93  134307.35              True   \n",
      "14  119943.24       156547.42        256512.92  132602.65             False   \n",
      "15  114523.61       122616.84        261776.23  129917.04             False   \n",
      "16   78013.11       121597.55        264346.06  126992.93              True   \n",
      "17   94657.16       145077.58        282574.31  125370.37             False   \n",
      "18   91749.16       114175.79        294919.57  124266.90             False   \n",
      "19   86419.70       153514.11             0.00  122776.86             False   \n",
      "20   76253.86       113867.30        298664.47  118474.03              True   \n",
      "21   78389.47       153773.43        299737.29  111313.02             False   \n",
      "22   73994.56       122782.75        303319.26  110352.25             False   \n",
      "23   67532.53       105751.03        304768.73  108733.99             False   \n",
      "24   77044.01        99281.34        140574.81  108552.04             False   \n",
      "25   64664.71       139553.16        137962.62  107404.34              True   \n",
      "26   75328.87       144135.98        134050.07  105733.54             False   \n",
      "27   72107.60       127864.55        353183.81  105008.31             False   \n",
      "28   66051.52       182645.56        118148.20  103282.38             False   \n",
      "29   65605.48       153032.06        107138.38  101004.64             False   \n",
      "30   61994.48       115641.28         91131.24   99937.59             False   \n",
      "31   61136.38       152701.92         88218.23   97483.56             False   \n",
      "32   63408.86       129219.61         46085.25   97427.84              True   \n",
      "33   55493.95       103057.49        214634.81   96778.92             False   \n",
      "34   46426.07       157693.92        210797.67   96712.80              True   \n",
      "35   46014.02        85047.44        205517.64   96479.51             False   \n",
      "36   28663.76       127056.21        201126.82   90708.19             False   \n",
      "37   44069.95        51283.14        197029.42   89949.14              True   \n",
      "38   20229.59        65947.93        185265.10   81229.06             False   \n",
      "39   38558.51        82982.09        174999.30   81005.76              True   \n",
      "40   28754.33       118546.05        172795.67   78239.91              True   \n",
      "41   27892.92        84710.77        164470.71   77798.83             False   \n",
      "42   23640.93        96189.63        148001.11   71498.49              True   \n",
      "43   15505.73       127382.30         35534.17   69758.98             False   \n",
      "44   22177.74       154806.14         28334.72   65200.33              True   \n",
      "45    1000.23       124153.04          1903.93   64926.08             False   \n",
      "46    1315.46       115816.21        297114.46   49490.75             False   \n",
      "47       0.00       135426.92             0.00   42559.73              True   \n",
      "48     542.05        51743.15             0.00   35673.41             False   \n",
      "49       0.00       116983.80         45173.06   14681.40              True   \n",
      "\n",
      "    State_Florida  State_New York  \n",
      "0           False            True  \n",
      "1           False           False  \n",
      "2            True           False  \n",
      "3           False            True  \n",
      "4            True           False  \n",
      "5           False            True  \n",
      "6           False           False  \n",
      "7            True           False  \n",
      "8           False            True  \n",
      "9           False           False  \n",
      "10           True           False  \n",
      "11          False           False  \n",
      "12           True           False  \n",
      "13          False           False  \n",
      "14           True           False  \n",
      "15          False            True  \n",
      "16          False           False  \n",
      "17          False            True  \n",
      "18           True           False  \n",
      "19          False            True  \n",
      "20          False           False  \n",
      "21          False            True  \n",
      "22           True           False  \n",
      "23           True           False  \n",
      "24          False            True  \n",
      "25          False           False  \n",
      "26           True           False  \n",
      "27          False            True  \n",
      "28           True           False  \n",
      "29          False            True  \n",
      "30           True           False  \n",
      "31          False            True  \n",
      "32          False           False  \n",
      "33           True           False  \n",
      "34          False           False  \n",
      "35          False            True  \n",
      "36           True           False  \n",
      "37          False           False  \n",
      "38          False            True  \n",
      "39          False           False  \n",
      "40          False           False  \n",
      "41           True           False  \n",
      "42          False           False  \n",
      "43          False            True  \n",
      "44          False           False  \n",
      "45          False            True  \n",
      "46           True           False  \n",
      "47          False           False  \n",
      "48          False            True  \n",
      "49          False           False  \n"
     ]
    }
   ],
   "source": [
    "df.isna().sum()\n",
    "df = pd.get_dummies(df, columns=['State'])\n",
    "print(df)"
   ]
  },
  {
   "cell_type": "code",
   "execution_count": 9,
   "id": "690fe833-5488-4860-9fcd-09f0c678c817",
   "metadata": {},
   "outputs": [
    {
     "data": {
      "text/plain": [
       "0.8987342590380774"
      ]
     },
     "execution_count": 9,
     "metadata": {},
     "output_type": "execute_result"
    }
   ],
   "source": [
    "x=df.drop('Profit',axis=1.0)\n",
    "y=df['Profit']\n",
    "\n",
    "x_train,x_test,y_train,y_test=train_test_split(x,y,test_size=0.2,random_state=42)\n",
    "\n",
    "\n",
    "#use the lass model\n",
    "lasso=Lasso(alpha=1.0)\n",
    "\n",
    "#fitting the trained data into lassp model\n",
    "lasso.fit(x_train,y_train)\n",
    "\n",
    "lasso.score(x_test,y_test)\n"
   ]
  },
  {
   "cell_type": "code",
   "execution_count": 10,
   "id": "f88d53f6-5cc4-4168-9342-d8ccc8899eb0",
   "metadata": {},
   "outputs": [
    {
     "name": "stdout",
     "output_type": "stream",
     "text": [
      "82004194.36797845\n",
      "0.8056221952471044\n"
     ]
    }
   ],
   "source": [
    "y_pred=lasso.predict(x_test)\n",
    "\n",
    "\n",
    "mse=mean_squared_error(y_test,y_pred)\n",
    "print(mse)\n",
    "\n",
    "print(lasso.coef_[0])"
   ]
  },
  {
   "cell_type": "code",
   "execution_count": 11,
   "id": "d27a1dba-b718-4bd0-a79f-35e6d78327d8",
   "metadata": {},
   "outputs": [],
   "source": [
    "# ### Elastic net\n",
    "# Elastic Net regression ek regularization technique hai jo Linear Regression ke liye use hoti hai. \n",
    "# Ye Ridge Regression aur Lasso Regression dono ka combination hai.\n",
    "# Elastic Net ka purpose overfitting ko reduce karna aur models ko better generalize karna hota hai."
   ]
  },
  {
   "cell_type": "code",
   "execution_count": 12,
   "id": "a07e1339-22cf-4caa-99fc-c9d1fa7f645e",
   "metadata": {},
   "outputs": [],
   "source": [
    "# Elastic Net ka Concept:\n",
    "# \t1.\tRidge Regression:\n",
    "# \t•\tPenalizes large coefficients by adding the squared value of coefficients to the loss function.\n",
    "# \t•\tUseful jab saare features important hain.\n",
    "# \t2.\tLasso Regression:\n",
    "# \t•\tPenalizes large coefficients by adding the absolute value of coefficients to the loss function.\n",
    "# \t•\tFeatures ko eliminate karne (zero kar dene) me madad karta hai.\n",
    "# \t3.\tElastic Net:\n",
    "# \t•\tRidge aur Lasso ka hybrid hai.\n",
    "# \t•\tYe Ridge ke squared penalty aur Lasso ke absolute penalty dono ko combine karta hai.\n",
    "# \t•\tYe un situations ke liye useful hai jahan correlated features hote hain.\n"
   ]
  },
  {
   "cell_type": "code",
   "execution_count": 13,
   "id": "3f752eae-5b0a-488c-92c8-eef1f6ce3aca",
   "metadata": {},
   "outputs": [
    {
     "name": "stdout",
     "output_type": "stream",
     "text": [
      "Mean Squared Error: 0.0024858156314566953\n"
     ]
    }
   ],
   "source": [
    "from sklearn.linear_model import ElasticNet\n",
    "from sklearn.model_selection import train_test_split\n",
    "from sklearn.metrics import mean_squared_error\n",
    "import numpy as np\n",
    "import pandas as pd\n",
    "\n",
    "# Sample dataset\n",
    "data = {\n",
    "    \"X1\": [1, 2, 3, 4, 5],\n",
    "    \"X2\": [2, 4, 6, 8, 10], #kuch data values same hai dono me is liye jahan feature same hoga vahan elastic net use karenge\n",
    "    \"y\": [1.1, 2.0, 2.9, 4.0, 5.1]\n",
    "}\n",
    "\n",
    "df = pd.DataFrame(data)\n",
    "\n",
    "# Features aur target split karo\n",
    "X = df[[\"X1\", \"X2\"]]\n",
    "y = df[\"y\"]\n",
    "\n",
    "# Train-test split\n",
    "X_train, X_test, y_train, y_test = train_test_split(X, y, test_size=0.2, random_state=42)\n",
    "\n",
    "# Elastic Net model\n",
    "model = ElasticNet(alpha=0.1, l1_ratio=0.5, random_state=42)  # l1_ratio decides Lasso vs Ridge weight\n",
    "model.fit(X_train, y_train)\n",
    "\n",
    "\n",
    "# Predictions\n",
    "y_pred = model.predict(X_test)\n",
    "\n",
    "# Model ka evaluation\n",
    "mse = mean_squared_error(y_test, y_pred)\n",
    "\n",
    "print(f\"Mean Squared Error: {mse}\")\n"
   ]
  },
  {
   "cell_type": "code",
   "execution_count": 14,
   "id": "772de352-fecf-40b6-a22e-bd0d89e3b1c9",
   "metadata": {},
   "outputs": [],
   "source": [
    "#multiElasticNet  jab output similar chahiye with different features\n",
    "from sklearn.metrics import mean_squared_error\n",
    "from sklearn.linear_model import MultiTaskElasticNet\n",
    "x= np.array([\n",
    "    [16, 2, 80],\n",
    "    [17, 3, 85],\n",
    "    [16, 1, 70],\n",
    "    [18, 4, 90],\n",
    "    [17, 2, 60],\n",
    "    [16, 3, 75],\n",
    "    [18, 5, 95]\n",
    "])\n",
    "y = np.array([\n",
    "    [85, 80],\n",
    "    [90, 85],\n",
    "    [75, 70],\n",
    "    [95, 92],\n",
    "    [70, 65],\n",
    "    [80, 78],\n",
    "    [98, 96]\n",
    "])\n",
    "\n",
    "x_train,x_test,y_train,y_test=train_test_split(x,y,test_size=0.3,random_state=42)\n",
    "\n",
    "model=ElasticNet(alpha=0.1,l1_ratio=0.5,random_state=42)\n",
    "model.fit(x_train,y_train)\n",
    "\n",
    "y_pred=model.predict(x_test)\n",
    "\n"
   ]
  },
  {
   "cell_type": "code",
   "execution_count": 15,
   "id": "c2188802-f22d-4507-af58-356fd2842836",
   "metadata": {},
   "outputs": [
    {
     "data": {
      "text/plain": [
       "0.8456480187174147"
      ]
     },
     "execution_count": 15,
     "metadata": {},
     "output_type": "execute_result"
    }
   ],
   "source": [
    "model.score(x_test,y_test)"
   ]
  },
  {
   "cell_type": "code",
   "execution_count": 16,
   "id": "ce3c21b7-1403-47de-8e49-8df71c7e9f10",
   "metadata": {},
   "outputs": [
    {
     "name": "stdout",
     "output_type": "stream",
     "text": [
      "[1.49089128 0.85406619 0.78292923]\n",
      "1.7644977631777805\n"
     ]
    }
   ],
   "source": [
    "print(model.coef_[1])\n",
    "from sklearn.metrics import mean_squared_error\n",
    "mse=mean_squared_error(y_test,y_pred)\n",
    "print(mse)"
   ]
  },
  {
   "cell_type": "code",
   "execution_count": 17,
   "id": "ffe8d5fc-6c93-4993-8f81-f4cb0e253d76",
   "metadata": {},
   "outputs": [
    {
     "data": {
      "text/html": [
       "<div>\n",
       "<style scoped>\n",
       "    .dataframe tbody tr th:only-of-type {\n",
       "        vertical-align: middle;\n",
       "    }\n",
       "\n",
       "    .dataframe tbody tr th {\n",
       "        vertical-align: top;\n",
       "    }\n",
       "\n",
       "    .dataframe thead th {\n",
       "        text-align: right;\n",
       "    }\n",
       "</style>\n",
       "<table border=\"1\" class=\"dataframe\">\n",
       "  <thead>\n",
       "    <tr style=\"text-align: right;\">\n",
       "      <th></th>\n",
       "      <th>Unnamed: 0</th>\n",
       "      <th>Hindi</th>\n",
       "      <th>English</th>\n",
       "      <th>Science</th>\n",
       "      <th>Maths</th>\n",
       "      <th>History</th>\n",
       "      <th>Geograpgy</th>\n",
       "      <th>Total</th>\n",
       "      <th>Results</th>\n",
       "      <th>Div</th>\n",
       "    </tr>\n",
       "  </thead>\n",
       "  <tbody>\n",
       "    <tr>\n",
       "      <th>995</th>\n",
       "      <td>995</td>\n",
       "      <td>55</td>\n",
       "      <td>89</td>\n",
       "      <td>68</td>\n",
       "      <td>58</td>\n",
       "      <td>13</td>\n",
       "      <td>13</td>\n",
       "      <td>296</td>\n",
       "      <td>0</td>\n",
       "      <td>2</td>\n",
       "    </tr>\n",
       "    <tr>\n",
       "      <th>996</th>\n",
       "      <td>996</td>\n",
       "      <td>42</td>\n",
       "      <td>62</td>\n",
       "      <td>25</td>\n",
       "      <td>87</td>\n",
       "      <td>51</td>\n",
       "      <td>68</td>\n",
       "      <td>335</td>\n",
       "      <td>1</td>\n",
       "      <td>2</td>\n",
       "    </tr>\n",
       "    <tr>\n",
       "      <th>997</th>\n",
       "      <td>997</td>\n",
       "      <td>9</td>\n",
       "      <td>83</td>\n",
       "      <td>70</td>\n",
       "      <td>14</td>\n",
       "      <td>11</td>\n",
       "      <td>78</td>\n",
       "      <td>265</td>\n",
       "      <td>0</td>\n",
       "      <td>3</td>\n",
       "    </tr>\n",
       "    <tr>\n",
       "      <th>998</th>\n",
       "      <td>998</td>\n",
       "      <td>23</td>\n",
       "      <td>82</td>\n",
       "      <td>31</td>\n",
       "      <td>42</td>\n",
       "      <td>84</td>\n",
       "      <td>52</td>\n",
       "      <td>314</td>\n",
       "      <td>0</td>\n",
       "      <td>2</td>\n",
       "    </tr>\n",
       "    <tr>\n",
       "      <th>999</th>\n",
       "      <td>999</td>\n",
       "      <td>75</td>\n",
       "      <td>78</td>\n",
       "      <td>68</td>\n",
       "      <td>33</td>\n",
       "      <td>79</td>\n",
       "      <td>91</td>\n",
       "      <td>424</td>\n",
       "      <td>1</td>\n",
       "      <td>1</td>\n",
       "    </tr>\n",
       "  </tbody>\n",
       "</table>\n",
       "</div>"
      ],
      "text/plain": [
       "     Unnamed: 0  Hindi  English  Science  Maths  History  Geograpgy  Total  \\\n",
       "995         995     55       89       68     58       13         13    296   \n",
       "996         996     42       62       25     87       51         68    335   \n",
       "997         997      9       83       70     14       11         78    265   \n",
       "998         998     23       82       31     42       84         52    314   \n",
       "999         999     75       78       68     33       79         91    424   \n",
       "\n",
       "     Results  Div  \n",
       "995        0    2  \n",
       "996        1    2  \n",
       "997        0    3  \n",
       "998        0    2  \n",
       "999        1    1  "
      ]
     },
     "execution_count": 17,
     "metadata": {},
     "output_type": "execute_result"
    }
   ],
   "source": [
    "#least angle path fllow karega\n",
    "from sklearn.linear_model import Lars\n",
    "df=pd.read_csv('results.csv')\n",
    "df.head()\n",
    "df.tail()\n"
   ]
  },
  {
   "cell_type": "code",
   "execution_count": 18,
   "id": "d2a73c71-391c-4d99-a895-3834e2a9ba0a",
   "metadata": {},
   "outputs": [
    {
     "name": "stdout",
     "output_type": "stream",
     "text": [
      "7.000339551283418e-05\n",
      "[ 1.02067133e-07  9.99892526e-01  9.99875808e-01  9.99894373e-01\n",
      "  9.99886703e-01  9.99871970e-01  9.99879578e-01  0.00000000e+00\n",
      " -0.00000000e+00]\n"
     ]
    }
   ],
   "source": [
    "\n",
    "x=df.drop('Total', axis=1)\n",
    "y=df['Total']\n",
    "x_train,x_test,y_train,y_test=train_test_split(x,y,test_size=0.3,random_state=42)\n",
    "model=Lasso(alpha=0.1)\n",
    "model.fit(x_train,y_train)\n",
    "y_pred=model.predict(x_test)\n",
    "mse=mean_squared_error(y_test,y_pred)\n",
    "print(mse)\n",
    "print(model.coef_)"
   ]
  },
  {
   "cell_type": "code",
   "execution_count": 19,
   "id": "6f1274f4-102b-4403-9451-28204ff0fac9",
   "metadata": {},
   "outputs": [
    {
     "name": "stdout",
     "output_type": "stream",
     "text": [
      "[0.00066514 0.10538273 0.         0.12397009 0.05922562 0.\n",
      " 0.         0.         0.        ]\n",
      "7.000339551283418e-05\n"
     ]
    }
   ],
   "source": [
    "lars=Lars(n_nonzero_coefs=4) #un features ko uthayega jinki sabse jyada jarurat hai or important hai\n",
    "lars.fit(x_train,y_train)\n",
    "y_pred=model.predict(x_test)\n",
    "mse=mean_squared_error(y_test,y_pred)\n",
    "\n",
    "print(lars.coef_)\n",
    "print(mse)\n"
   ]
  },
  {
   "cell_type": "code",
   "execution_count": 20,
   "id": "fe6b11c6-c6a5-4492-9b52-6340eec5d3da",
   "metadata": {},
   "outputs": [
    {
     "data": {
      "text/html": [
       "<div>\n",
       "<style scoped>\n",
       "    .dataframe tbody tr th:only-of-type {\n",
       "        vertical-align: middle;\n",
       "    }\n",
       "\n",
       "    .dataframe tbody tr th {\n",
       "        vertical-align: top;\n",
       "    }\n",
       "\n",
       "    .dataframe thead th {\n",
       "        text-align: right;\n",
       "    }\n",
       "</style>\n",
       "<table border=\"1\" class=\"dataframe\">\n",
       "  <thead>\n",
       "    <tr style=\"text-align: right;\">\n",
       "      <th></th>\n",
       "      <th>Unnamed: 0</th>\n",
       "      <th>Hindi</th>\n",
       "      <th>English</th>\n",
       "      <th>Science</th>\n",
       "      <th>Maths</th>\n",
       "      <th>History</th>\n",
       "      <th>Geograpgy</th>\n",
       "      <th>Total</th>\n",
       "      <th>Results</th>\n",
       "      <th>Div</th>\n",
       "    </tr>\n",
       "  </thead>\n",
       "  <tbody>\n",
       "    <tr>\n",
       "      <th>count</th>\n",
       "      <td>1000.000000</td>\n",
       "      <td>1000.000000</td>\n",
       "      <td>1000.000000</td>\n",
       "      <td>1000.000000</td>\n",
       "      <td>1000.000000</td>\n",
       "      <td>1000.00000</td>\n",
       "      <td>1000.000000</td>\n",
       "      <td>1000.000000</td>\n",
       "      <td>1000.000000</td>\n",
       "      <td>1000.000000</td>\n",
       "    </tr>\n",
       "    <tr>\n",
       "      <th>mean</th>\n",
       "      <td>499.500000</td>\n",
       "      <td>51.645000</td>\n",
       "      <td>50.110000</td>\n",
       "      <td>49.440000</td>\n",
       "      <td>49.553000</td>\n",
       "      <td>49.03400</td>\n",
       "      <td>50.028000</td>\n",
       "      <td>299.810000</td>\n",
       "      <td>0.350000</td>\n",
       "      <td>1.856000</td>\n",
       "    </tr>\n",
       "    <tr>\n",
       "      <th>std</th>\n",
       "      <td>288.819436</td>\n",
       "      <td>29.471912</td>\n",
       "      <td>28.048505</td>\n",
       "      <td>28.921114</td>\n",
       "      <td>28.632447</td>\n",
       "      <td>28.76975</td>\n",
       "      <td>28.710268</td>\n",
       "      <td>71.865239</td>\n",
       "      <td>0.477208</td>\n",
       "      <td>0.904479</td>\n",
       "    </tr>\n",
       "    <tr>\n",
       "      <th>min</th>\n",
       "      <td>0.000000</td>\n",
       "      <td>0.000000</td>\n",
       "      <td>0.000000</td>\n",
       "      <td>0.000000</td>\n",
       "      <td>0.000000</td>\n",
       "      <td>0.00000</td>\n",
       "      <td>0.000000</td>\n",
       "      <td>103.000000</td>\n",
       "      <td>0.000000</td>\n",
       "      <td>0.000000</td>\n",
       "    </tr>\n",
       "    <tr>\n",
       "      <th>25%</th>\n",
       "      <td>249.750000</td>\n",
       "      <td>26.000000</td>\n",
       "      <td>26.000000</td>\n",
       "      <td>25.000000</td>\n",
       "      <td>25.750000</td>\n",
       "      <td>24.00000</td>\n",
       "      <td>26.000000</td>\n",
       "      <td>254.000000</td>\n",
       "      <td>0.000000</td>\n",
       "      <td>1.000000</td>\n",
       "    </tr>\n",
       "    <tr>\n",
       "      <th>50%</th>\n",
       "      <td>499.500000</td>\n",
       "      <td>53.000000</td>\n",
       "      <td>50.500000</td>\n",
       "      <td>50.000000</td>\n",
       "      <td>49.000000</td>\n",
       "      <td>49.00000</td>\n",
       "      <td>49.000000</td>\n",
       "      <td>296.000000</td>\n",
       "      <td>0.000000</td>\n",
       "      <td>2.000000</td>\n",
       "    </tr>\n",
       "    <tr>\n",
       "      <th>75%</th>\n",
       "      <td>749.250000</td>\n",
       "      <td>77.000000</td>\n",
       "      <td>75.000000</td>\n",
       "      <td>73.250000</td>\n",
       "      <td>74.000000</td>\n",
       "      <td>73.25000</td>\n",
       "      <td>75.000000</td>\n",
       "      <td>349.250000</td>\n",
       "      <td>1.000000</td>\n",
       "      <td>3.000000</td>\n",
       "    </tr>\n",
       "    <tr>\n",
       "      <th>max</th>\n",
       "      <td>999.000000</td>\n",
       "      <td>99.000000</td>\n",
       "      <td>99.000000</td>\n",
       "      <td>99.000000</td>\n",
       "      <td>99.000000</td>\n",
       "      <td>99.00000</td>\n",
       "      <td>99.000000</td>\n",
       "      <td>505.000000</td>\n",
       "      <td>1.000000</td>\n",
       "      <td>3.000000</td>\n",
       "    </tr>\n",
       "  </tbody>\n",
       "</table>\n",
       "</div>"
      ],
      "text/plain": [
       "        Unnamed: 0        Hindi      English      Science        Maths  \\\n",
       "count  1000.000000  1000.000000  1000.000000  1000.000000  1000.000000   \n",
       "mean    499.500000    51.645000    50.110000    49.440000    49.553000   \n",
       "std     288.819436    29.471912    28.048505    28.921114    28.632447   \n",
       "min       0.000000     0.000000     0.000000     0.000000     0.000000   \n",
       "25%     249.750000    26.000000    26.000000    25.000000    25.750000   \n",
       "50%     499.500000    53.000000    50.500000    50.000000    49.000000   \n",
       "75%     749.250000    77.000000    75.000000    73.250000    74.000000   \n",
       "max     999.000000    99.000000    99.000000    99.000000    99.000000   \n",
       "\n",
       "          History    Geograpgy        Total      Results          Div  \n",
       "count  1000.00000  1000.000000  1000.000000  1000.000000  1000.000000  \n",
       "mean     49.03400    50.028000   299.810000     0.350000     1.856000  \n",
       "std      28.76975    28.710268    71.865239     0.477208     0.904479  \n",
       "min       0.00000     0.000000   103.000000     0.000000     0.000000  \n",
       "25%      24.00000    26.000000   254.000000     0.000000     1.000000  \n",
       "50%      49.00000    49.000000   296.000000     0.000000     2.000000  \n",
       "75%      73.25000    75.000000   349.250000     1.000000     3.000000  \n",
       "max      99.00000    99.000000   505.000000     1.000000     3.000000  "
      ]
     },
     "execution_count": 20,
     "metadata": {},
     "output_type": "execute_result"
    }
   ],
   "source": [
    "df.describe()"
   ]
  },
  {
   "cell_type": "code",
   "execution_count": 21,
   "id": "20cd0fff-e758-4f39-91af-ea43efc3eba4",
   "metadata": {},
   "outputs": [
    {
     "name": "stdout",
     "output_type": "stream",
     "text": [
      "<class 'pandas.core.frame.DataFrame'>\n",
      "RangeIndex: 1000 entries, 0 to 999\n",
      "Data columns (total 10 columns):\n",
      " #   Column      Non-Null Count  Dtype\n",
      "---  ------      --------------  -----\n",
      " 0   Unnamed: 0  1000 non-null   int64\n",
      " 1   Hindi       1000 non-null   int64\n",
      " 2   English     1000 non-null   int64\n",
      " 3   Science     1000 non-null   int64\n",
      " 4   Maths       1000 non-null   int64\n",
      " 5   History     1000 non-null   int64\n",
      " 6   Geograpgy   1000 non-null   int64\n",
      " 7   Total       1000 non-null   int64\n",
      " 8   Results     1000 non-null   int64\n",
      " 9   Div         1000 non-null   int64\n",
      "dtypes: int64(10)\n",
      "memory usage: 78.3 KB\n"
     ]
    }
   ],
   "source": [
    "df.info()"
   ]
  },
  {
   "cell_type": "code",
   "execution_count": 22,
   "id": "b3c67ee1-3936-41f8-9173-e76f327cecdc",
   "metadata": {},
   "outputs": [
    {
     "name": "stdout",
     "output_type": "stream",
     "text": [
      "232.0086980437576\n",
      "[8.52280718e-08 9.99892418e-01 9.99875840e-01 9.99894382e-01\n",
      " 9.99886720e-01 9.99871964e-01 9.99879572e-01 0.00000000e+00\n",
      " 0.00000000e+00]\n",
      "7.001669401499498e-05\n",
      "0.9999999864955227\n",
      "0.9999999862342253\n",
      "Selected feature indices: [0 1 2 3 4 5 6]\n"
     ]
    }
   ],
   "source": [
    "#larslasso ke andar hum important fetures select krte hai iske sath he lars ke madad se regularization bhi krte hai \n",
    "#jisse model overfitting se bhi bachta hai\n",
    "from sklearn.linear_model import LassoLars\n",
    "llars=LassoLars(alpha=0.1) #alpha regularization parameter hai\n",
    "llars.fit(x_train,y_train)\n",
    "y_pred=llars.predict(x_test)\n",
    "mse=mean_squared_error(y_test,y_pred)\n",
    "print(y_pred[0])\n",
    "print(llars.coef_)\n",
    "print(mse)\n",
    "print(llars.score(x_train,y_train))\n",
    "print(llars.score(x_test,y_test))\n",
    "selected_indices = np.where(llars.coef_ != 0)[0]\n",
    "print(\"Selected feature indices:\", selected_indices) #konse features select kiye hai"
   ]
  },
  {
   "cell_type": "code",
   "execution_count": 23,
   "id": "e0d57127-3895-4323-8130-63dfbab9d1fd",
   "metadata": {},
   "outputs": [
    {
     "data": {
      "text/html": [
       "<div>\n",
       "<style scoped>\n",
       "    .dataframe tbody tr th:only-of-type {\n",
       "        vertical-align: middle;\n",
       "    }\n",
       "\n",
       "    .dataframe tbody tr th {\n",
       "        vertical-align: top;\n",
       "    }\n",
       "\n",
       "    .dataframe thead th {\n",
       "        text-align: right;\n",
       "    }\n",
       "</style>\n",
       "<table border=\"1\" class=\"dataframe\">\n",
       "  <thead>\n",
       "    <tr style=\"text-align: right;\">\n",
       "      <th></th>\n",
       "      <th>Unnamed: 0</th>\n",
       "      <th>Hindi</th>\n",
       "      <th>English</th>\n",
       "      <th>Science</th>\n",
       "      <th>Maths</th>\n",
       "      <th>History</th>\n",
       "      <th>Geograpgy</th>\n",
       "      <th>Total</th>\n",
       "      <th>Results</th>\n",
       "      <th>Div</th>\n",
       "    </tr>\n",
       "  </thead>\n",
       "  <tbody>\n",
       "    <tr>\n",
       "      <th>0</th>\n",
       "      <td>0</td>\n",
       "      <td>65</td>\n",
       "      <td>10</td>\n",
       "      <td>59</td>\n",
       "      <td>3</td>\n",
       "      <td>71</td>\n",
       "      <td>37</td>\n",
       "      <td>245</td>\n",
       "      <td>0</td>\n",
       "      <td>3</td>\n",
       "    </tr>\n",
       "    <tr>\n",
       "      <th>1</th>\n",
       "      <td>1</td>\n",
       "      <td>94</td>\n",
       "      <td>56</td>\n",
       "      <td>4</td>\n",
       "      <td>67</td>\n",
       "      <td>91</td>\n",
       "      <td>50</td>\n",
       "      <td>362</td>\n",
       "      <td>1</td>\n",
       "      <td>1</td>\n",
       "    </tr>\n",
       "    <tr>\n",
       "      <th>2</th>\n",
       "      <td>2</td>\n",
       "      <td>7</td>\n",
       "      <td>85</td>\n",
       "      <td>76</td>\n",
       "      <td>99</td>\n",
       "      <td>60</td>\n",
       "      <td>25</td>\n",
       "      <td>352</td>\n",
       "      <td>0</td>\n",
       "      <td>2</td>\n",
       "    </tr>\n",
       "    <tr>\n",
       "      <th>3</th>\n",
       "      <td>3</td>\n",
       "      <td>88</td>\n",
       "      <td>46</td>\n",
       "      <td>59</td>\n",
       "      <td>94</td>\n",
       "      <td>52</td>\n",
       "      <td>38</td>\n",
       "      <td>377</td>\n",
       "      <td>1</td>\n",
       "      <td>1</td>\n",
       "    </tr>\n",
       "    <tr>\n",
       "      <th>4</th>\n",
       "      <td>4</td>\n",
       "      <td>39</td>\n",
       "      <td>81</td>\n",
       "      <td>37</td>\n",
       "      <td>38</td>\n",
       "      <td>6</td>\n",
       "      <td>54</td>\n",
       "      <td>255</td>\n",
       "      <td>1</td>\n",
       "      <td>3</td>\n",
       "    </tr>\n",
       "  </tbody>\n",
       "</table>\n",
       "</div>"
      ],
      "text/plain": [
       "   Unnamed: 0  Hindi  English  Science  Maths  History  Geograpgy  Total  \\\n",
       "0           0     65       10       59      3       71         37    245   \n",
       "1           1     94       56        4     67       91         50    362   \n",
       "2           2      7       85       76     99       60         25    352   \n",
       "3           3     88       46       59     94       52         38    377   \n",
       "4           4     39       81       37     38        6         54    255   \n",
       "\n",
       "   Results  Div  \n",
       "0        0    3  \n",
       "1        1    1  \n",
       "2        0    2  \n",
       "3        1    1  \n",
       "4        1    3  "
      ]
     },
     "execution_count": 23,
     "metadata": {},
     "output_type": "execute_result"
    }
   ],
   "source": [
    "df.head()"
   ]
  },
  {
   "cell_type": "code",
   "execution_count": 24,
   "id": "8eb0ced1-94d7-4999-8d02-02ffde505903",
   "metadata": {},
   "outputs": [
    {
     "name": "stdout",
     "output_type": "stream",
     "text": [
      "835.6391624449448\n",
      "0.8357074609721598\n",
      "0.8533097724996159\n"
     ]
    }
   ],
   "source": [
    "from sklearn.linear_model import OrthogonalMatchingPursuit\n",
    "omp=OrthogonalMatchingPursuit(n_nonzero_coefs=6)\n",
    "omp.fit(x_train,y_train)\n",
    "y_pred=omp.predict(x_test)\n",
    "mse=mse=mean_squared_error(y_test,y_pred)\n",
    "print(mse)\n",
    "print(omp.score(x_test,y_test))\n",
    "print(omp.score(x_train,y_train))"
   ]
  },
  {
   "cell_type": "code",
   "execution_count": 25,
   "id": "aadd8a2c-02ca-4a88-a8ad-934a537e9e57",
   "metadata": {},
   "outputs": [
    {
     "data": {
      "text/html": [
       "<div>\n",
       "<style scoped>\n",
       "    .dataframe tbody tr th:only-of-type {\n",
       "        vertical-align: middle;\n",
       "    }\n",
       "\n",
       "    .dataframe tbody tr th {\n",
       "        vertical-align: top;\n",
       "    }\n",
       "\n",
       "    .dataframe thead th {\n",
       "        text-align: right;\n",
       "    }\n",
       "</style>\n",
       "<table border=\"1\" class=\"dataframe\">\n",
       "  <thead>\n",
       "    <tr style=\"text-align: right;\">\n",
       "      <th></th>\n",
       "      <th>WorkoutTime</th>\n",
       "      <th>ReadingTime</th>\n",
       "      <th>PhoneTime</th>\n",
       "      <th>WorkHours</th>\n",
       "      <th>CaffeineIntake</th>\n",
       "      <th>RelaxationTime</th>\n",
       "      <th>SleepTime</th>\n",
       "    </tr>\n",
       "  </thead>\n",
       "  <tbody>\n",
       "    <tr>\n",
       "      <th>0</th>\n",
       "      <td>1.12</td>\n",
       "      <td>0.52</td>\n",
       "      <td>3.29</td>\n",
       "      <td>7.89</td>\n",
       "      <td>216.08</td>\n",
       "      <td>0.75</td>\n",
       "      <td>3.45</td>\n",
       "    </tr>\n",
       "    <tr>\n",
       "      <th>1</th>\n",
       "      <td>2.85</td>\n",
       "      <td>0.49</td>\n",
       "      <td>4.22</td>\n",
       "      <td>5.03</td>\n",
       "      <td>206.18</td>\n",
       "      <td>0.67</td>\n",
       "      <td>4.88</td>\n",
       "    </tr>\n",
       "    <tr>\n",
       "      <th>2</th>\n",
       "      <td>2.20</td>\n",
       "      <td>1.81</td>\n",
       "      <td>4.04</td>\n",
       "      <td>9.23</td>\n",
       "      <td>28.73</td>\n",
       "      <td>0.35</td>\n",
       "      <td>3.61</td>\n",
       "    </tr>\n",
       "    <tr>\n",
       "      <th>3</th>\n",
       "      <td>1.80</td>\n",
       "      <td>0.50</td>\n",
       "      <td>1.62</td>\n",
       "      <td>7.68</td>\n",
       "      <td>276.77</td>\n",
       "      <td>1.21</td>\n",
       "      <td>4.94</td>\n",
       "    </tr>\n",
       "    <tr>\n",
       "      <th>4</th>\n",
       "      <td>0.47</td>\n",
       "      <td>0.54</td>\n",
       "      <td>1.60</td>\n",
       "      <td>4.94</td>\n",
       "      <td>170.54</td>\n",
       "      <td>0.95</td>\n",
       "      <td>5.50</td>\n",
       "    </tr>\n",
       "  </tbody>\n",
       "</table>\n",
       "</div>"
      ],
      "text/plain": [
       "   WorkoutTime  ReadingTime  PhoneTime  WorkHours  CaffeineIntake  \\\n",
       "0         1.12         0.52       3.29       7.89          216.08   \n",
       "1         2.85         0.49       4.22       5.03          206.18   \n",
       "2         2.20         1.81       4.04       9.23           28.73   \n",
       "3         1.80         0.50       1.62       7.68          276.77   \n",
       "4         0.47         0.54       1.60       4.94          170.54   \n",
       "\n",
       "   RelaxationTime  SleepTime  \n",
       "0            0.75       3.45  \n",
       "1            0.67       4.88  \n",
       "2            0.35       3.61  \n",
       "3            1.21       4.94  \n",
       "4            0.95       5.50  "
      ]
     },
     "execution_count": 25,
     "metadata": {},
     "output_type": "execute_result"
    }
   ],
   "source": [
    "df=pd.read_csv('stdd.csv')\n",
    "df.head()"
   ]
  },
  {
   "cell_type": "code",
   "execution_count": 26,
   "id": "1f16f396-2bde-408b-8032-a3891a655969",
   "metadata": {},
   "outputs": [
    {
     "name": "stdout",
     "output_type": "stream",
     "text": [
      "<class 'pandas.core.frame.DataFrame'>\n",
      "RangeIndex: 2000 entries, 0 to 1999\n",
      "Data columns (total 7 columns):\n",
      " #   Column          Non-Null Count  Dtype  \n",
      "---  ------          --------------  -----  \n",
      " 0   WorkoutTime     2000 non-null   float64\n",
      " 1   ReadingTime     2000 non-null   float64\n",
      " 2   PhoneTime       2000 non-null   float64\n",
      " 3   WorkHours       2000 non-null   float64\n",
      " 4   CaffeineIntake  2000 non-null   float64\n",
      " 5   RelaxationTime  2000 non-null   float64\n",
      " 6   SleepTime       2000 non-null   float64\n",
      "dtypes: float64(7)\n",
      "memory usage: 109.5 KB\n"
     ]
    }
   ],
   "source": [
    "df.info()"
   ]
  },
  {
   "cell_type": "code",
   "execution_count": 27,
   "id": "d7ae9d74-a9b2-4b3c-84de-980ae59683aa",
   "metadata": {},
   "outputs": [
    {
     "data": {
      "text/html": [
       "<div>\n",
       "<style scoped>\n",
       "    .dataframe tbody tr th:only-of-type {\n",
       "        vertical-align: middle;\n",
       "    }\n",
       "\n",
       "    .dataframe tbody tr th {\n",
       "        vertical-align: top;\n",
       "    }\n",
       "\n",
       "    .dataframe thead th {\n",
       "        text-align: right;\n",
       "    }\n",
       "</style>\n",
       "<table border=\"1\" class=\"dataframe\">\n",
       "  <thead>\n",
       "    <tr style=\"text-align: right;\">\n",
       "      <th></th>\n",
       "      <th>WorkoutTime</th>\n",
       "      <th>ReadingTime</th>\n",
       "      <th>PhoneTime</th>\n",
       "      <th>WorkHours</th>\n",
       "      <th>CaffeineIntake</th>\n",
       "      <th>RelaxationTime</th>\n",
       "      <th>SleepTime</th>\n",
       "    </tr>\n",
       "  </thead>\n",
       "  <tbody>\n",
       "    <tr>\n",
       "      <th>count</th>\n",
       "      <td>2000.000000</td>\n",
       "      <td>2000.000000</td>\n",
       "      <td>2000.000000</td>\n",
       "      <td>2000.000000</td>\n",
       "      <td>2000.000000</td>\n",
       "      <td>2000.000000</td>\n",
       "      <td>2000.000000</td>\n",
       "    </tr>\n",
       "    <tr>\n",
       "      <th>mean</th>\n",
       "      <td>1.495915</td>\n",
       "      <td>0.992785</td>\n",
       "      <td>2.985195</td>\n",
       "      <td>6.926945</td>\n",
       "      <td>147.493780</td>\n",
       "      <td>1.010955</td>\n",
       "      <td>4.884375</td>\n",
       "    </tr>\n",
       "    <tr>\n",
       "      <th>std</th>\n",
       "      <td>0.876639</td>\n",
       "      <td>0.577303</td>\n",
       "      <td>1.151776</td>\n",
       "      <td>1.723843</td>\n",
       "      <td>84.651139</td>\n",
       "      <td>0.582619</td>\n",
       "      <td>2.028892</td>\n",
       "    </tr>\n",
       "    <tr>\n",
       "      <th>min</th>\n",
       "      <td>0.010000</td>\n",
       "      <td>0.000000</td>\n",
       "      <td>1.000000</td>\n",
       "      <td>4.000000</td>\n",
       "      <td>0.020000</td>\n",
       "      <td>0.000000</td>\n",
       "      <td>0.150000</td>\n",
       "    </tr>\n",
       "    <tr>\n",
       "      <th>25%</th>\n",
       "      <td>0.710000</td>\n",
       "      <td>0.500000</td>\n",
       "      <td>1.990000</td>\n",
       "      <td>5.440000</td>\n",
       "      <td>75.980000</td>\n",
       "      <td>0.510000</td>\n",
       "      <td>3.840000</td>\n",
       "    </tr>\n",
       "    <tr>\n",
       "      <th>50%</th>\n",
       "      <td>1.520000</td>\n",
       "      <td>0.990000</td>\n",
       "      <td>2.965000</td>\n",
       "      <td>6.910000</td>\n",
       "      <td>146.010000</td>\n",
       "      <td>1.010000</td>\n",
       "      <td>4.600000</td>\n",
       "    </tr>\n",
       "    <tr>\n",
       "      <th>75%</th>\n",
       "      <td>2.250000</td>\n",
       "      <td>1.500000</td>\n",
       "      <td>3.960000</td>\n",
       "      <td>8.422500</td>\n",
       "      <td>218.902500</td>\n",
       "      <td>1.530000</td>\n",
       "      <td>5.470000</td>\n",
       "    </tr>\n",
       "    <tr>\n",
       "      <th>max</th>\n",
       "      <td>3.000000</td>\n",
       "      <td>2.000000</td>\n",
       "      <td>5.000000</td>\n",
       "      <td>10.000000</td>\n",
       "      <td>299.850000</td>\n",
       "      <td>2.000000</td>\n",
       "      <td>19.810000</td>\n",
       "    </tr>\n",
       "  </tbody>\n",
       "</table>\n",
       "</div>"
      ],
      "text/plain": [
       "       WorkoutTime  ReadingTime    PhoneTime    WorkHours  CaffeineIntake  \\\n",
       "count  2000.000000  2000.000000  2000.000000  2000.000000     2000.000000   \n",
       "mean      1.495915     0.992785     2.985195     6.926945      147.493780   \n",
       "std       0.876639     0.577303     1.151776     1.723843       84.651139   \n",
       "min       0.010000     0.000000     1.000000     4.000000        0.020000   \n",
       "25%       0.710000     0.500000     1.990000     5.440000       75.980000   \n",
       "50%       1.520000     0.990000     2.965000     6.910000      146.010000   \n",
       "75%       2.250000     1.500000     3.960000     8.422500      218.902500   \n",
       "max       3.000000     2.000000     5.000000    10.000000      299.850000   \n",
       "\n",
       "       RelaxationTime    SleepTime  \n",
       "count     2000.000000  2000.000000  \n",
       "mean         1.010955     4.884375  \n",
       "std          0.582619     2.028892  \n",
       "min          0.000000     0.150000  \n",
       "25%          0.510000     3.840000  \n",
       "50%          1.010000     4.600000  \n",
       "75%          1.530000     5.470000  \n",
       "max          2.000000    19.810000  "
      ]
     },
     "execution_count": 27,
     "metadata": {},
     "output_type": "execute_result"
    }
   ],
   "source": [
    "df.describe()"
   ]
  },
  {
   "cell_type": "code",
   "execution_count": 28,
   "id": "32e2f611-09c3-47ba-af52-8ccf2376b6c1",
   "metadata": {},
   "outputs": [],
   "source": [
    "##  \n",
    "x=df.drop('SleepTime',axis=1).values\n",
    "y=df['SleepTime'].values\n",
    "x_train,y_train,x_test,y_test=train_test_split(x,y,test_size=0.2,random_state=42)"
   ]
  },
  {
   "cell_type": "code",
   "execution_count": null,
   "id": "29d8eef8-4bb8-47ca-a2ec-b8404a2ec7d5",
   "metadata": {},
   "outputs": [],
   "source": []
  },
  {
   "cell_type": "code",
   "execution_count": 29,
   "id": "2a2c28e1-f9a5-4cd7-b4e0-224f8fb0344e",
   "metadata": {},
   "outputs": [
    {
     "name": "stdout",
     "output_type": "stream",
     "text": [
      "   WorkoutTime  ReadingTime  PhoneTime  WorkHours  CaffeineIntake  \\\n",
      "0         1.12         0.52       3.29       7.89          216.08   \n",
      "1         2.85         0.49       4.22       5.03          206.18   \n",
      "2         2.20         1.81       4.04       9.23           28.73   \n",
      "3         1.80         0.50       1.62       7.68          276.77   \n",
      "4         0.47         0.54       1.60       4.94          170.54   \n",
      "\n",
      "   RelaxationTime  SleepTime  \n",
      "0            0.75       3.45  \n",
      "1            0.67       4.88  \n",
      "2            0.35       3.61  \n",
      "3            1.21       4.94  \n",
      "4            0.95       5.50  \n",
      "   WorkoutTime  ReadingTime  PhoneTime  WorkHours  CaffeineIntake  \\\n",
      "0         1.12         0.52       3.29       7.89          216.08   \n",
      "1         2.85         0.49       4.22       5.03          206.18   \n",
      "2         2.20         1.81       4.04       9.23           28.73   \n",
      "3         1.80         0.50       1.62       7.68          276.77   \n",
      "4         0.47         0.54       1.60       4.94          170.54   \n",
      "\n",
      "   RelaxationTime  SleepTime  \n",
      "0            0.75       3.45  \n",
      "1            0.67       4.88  \n",
      "2            0.35       3.61  \n",
      "3            1.21       4.94  \n",
      "4            0.95       5.50  \n"
     ]
    },
    {
     "ename": "AttributeError",
     "evalue": "'numpy.ndarray' object has no attribute 'head'",
     "output_type": "error",
     "traceback": [
      "\u001b[0;31m---------------------------------------------------------------------------\u001b[0m",
      "\u001b[0;31mAttributeError\u001b[0m                            Traceback (most recent call last)",
      "Cell \u001b[0;32mIn[29], line 17\u001b[0m\n\u001b[1;32m     14\u001b[0m y\u001b[38;5;241m=\u001b[39mp[\u001b[38;5;124m'\u001b[39m\u001b[38;5;124mSleepTime\u001b[39m\u001b[38;5;124m'\u001b[39m]\n\u001b[1;32m     16\u001b[0m \u001b[38;5;28mprint\u001b[39m(data\u001b[38;5;241m.\u001b[39mhead())\n\u001b[0;32m---> 17\u001b[0m \u001b[38;5;28mprint\u001b[39m(x\u001b[38;5;241m.\u001b[39mhead())\n\u001b[1;32m     18\u001b[0m \u001b[38;5;28mprint\u001b[39m(x\u001b[38;5;241m.\u001b[39mtail())\n",
      "\u001b[0;31mAttributeError\u001b[0m: 'numpy.ndarray' object has no attribute 'head'"
     ]
    }
   ],
   "source": [
    "# Bayesian Ridge model ko initialize karna\n",
    "from sklearn.linear_model import BayesianRidge\n",
    "import pandas as pd\n",
    "from sklearn.model_selection import train_test_split\n",
    "from sklearn.metrics import mean_squared_error\n",
    "from sklearn.linear_model import BayesianRidge\n",
    "\n",
    "# Load the dataset\n",
    "data = pd.read_csv('stdd.csv')\n",
    "print(data.head())\n",
    "# Split the dataset into features (X) and target (y)\n",
    "p=data.ffill()\n",
    "X=p.drop(columns=['SleepTime','CaffeineIntake'])\n",
    "y=p['SleepTime']\n",
    "\n",
    "print(data.head())\n",
    "print(x.head())\n",
    "print(x.tail())"
   ]
  },
  {
   "cell_type": "code",
   "execution_count": null,
   "id": "b8e3d7bd-502a-4f75-b25a-b32022536fb6",
   "metadata": {},
   "outputs": [],
   "source": [
    "X_train, X_test, y_train, y_test = train_test_split(X, y, test_size=0.2, random_state=42)\n",
    "\n",
    "# Train a Bayesian Ridge Regression model\n",
    "model = BayesianRidge()\n",
    "model.fit(X_train, y_train)\n",
    "\n",
    "# Predict on the test set\n",
    "y_pred = model.predict(X_test)\n",
    "\n",
    "# Calculate Mean Squared Error\n",
    "mse = mean_squared_error(y_test, y_pred)\n",
    "\n",
    "# Print the results\n",
    "print(\"Mean Squared Error (MSE):\", mse)\n",
    "\n",
    "s=model.score(X_test, y_test)\n",
    "print(s)\n",
    "p=model.score(X_train, y_train)\n",
    "print(p)"
   ]
  },
  {
   "cell_type": "code",
   "execution_count": null,
   "id": "a08425c8-34b7-4b48-b95e-0748c2a22d3e",
   "metadata": {},
   "outputs": [],
   "source": [
    "\n",
    "df=pd.read_csv('Student_marks.csv')\n",
    "df.head()"
   ]
  },
  {
   "cell_type": "code",
   "execution_count": null,
   "id": "4eefd9c3-40ab-40e3-bc7d-482d2d853f78",
   "metadata": {},
   "outputs": [],
   "source": [
    "x=df.drop(['Marks','number_courses','pass'],axis=1)\n",
    "y=df['pass']\n",
    "print(x.tail())\n",
    "print(y.head())"
   ]
  },
  {
   "cell_type": "code",
   "execution_count": null,
   "id": "119118d6-2142-492c-ba26-769e7e8e75a0",
   "metadata": {},
   "outputs": [],
   "source": [
    "df.describe()"
   ]
  },
  {
   "cell_type": "code",
   "execution_count": null,
   "id": "b8b2d5b6-7715-4cce-bc75-b4834403da69",
   "metadata": {},
   "outputs": [],
   "source": [
    "df.describe()"
   ]
  },
  {
   "cell_type": "code",
   "execution_count": null,
   "id": "f31362f6-86fc-4c0a-8051-b4226512ffa8",
   "metadata": {},
   "outputs": [],
   "source": [
    "# logistic regression use probability\n",
    "from sklearn.metrics import accuracy_score, confusion_matrix\n",
    "from sklearn.linear_model import LogisticRegression\n",
    "from sklearn.model_selection import train_test_split\n",
    "\n",
    "\n",
    "from sklearn.metrics import accuracy_score, confusion_matrix\n",
    "from sklearn.linear_model import LogisticRegression\n",
    "#column of pass/fail if  marks>40 gives true else false\n",
    "df['pass']= (df['Marks']>=20).astype(int)\n",
    "\n",
    "# split data\n",
    "x_train, x_test, y_train, y_test = train_test_split(x, y, test_size=0.2, random_state=42)\n",
    "LR=LogisticRegression()\n",
    "LR.fit(x_train, y_train)\n",
    "# make prediction \n",
    "y_pred=LR.predict(x_test)\n",
    "# Splitting the data correctly\n",
    "\n",
    "accuracy = accuracy_score(y_test, y_pred)\n",
    "\n",
    "print(y_pred)\n",
    "print(f\"Accuracy: {accuracy}\")\n"
   ]
  },
  {
   "cell_type": "code",
   "execution_count": null,
   "id": "8c212f37-42a7-4795-8099-92d0004572e8",
   "metadata": {},
   "outputs": [],
   "source": [
    "##genearlized liinear model\n",
    "##poisson \n",
    "import statsmodels.api as sm\n",
    "import numpy as np\n",
    "import pandas as pd\n",
    "\n",
    "# Sample Data\n",
    "X = np.random.rand(50)\n",
    "y = 2 * X + np.random.normal(0, 0.1, 50)  # Linear relationship with noise\n",
    "\n",
    "# Add constant for intercept\n",
    "X = sm.add_constant(X)\n",
    "\n",
    "# Fit OLS regression model\n",
    "model = sm.GLM(y, X).fit()\n",
    "print(model.summary())"
   ]
  },
  {
   "cell_type": "code",
   "execution_count": null,
   "id": "c9f417df-ed58-48bf-badc-21cee428657b",
   "metadata": {},
   "outputs": [],
   "source": [
    "#countiong \n",
    "import pandas as pd\n",
    "import numpy as np\n",
    "import statsmodels.api as sm\n",
    "\n",
    "# Dummy dataset\n",
    "data = {\n",
    "    'day_of_week': [1, 2, 3, 4, 5, 6, 7],  # Monday = 1, Sunday = 7\n",
    "    'weather': [1, 0, 1, 0, 1, 0, 1],      # 1 = Sunny, 0 = Rainy\n",
    "    'patient_count': [3, 2, 5, 4, 6, 2, 7] # Number of patients admitted\n",
    "}\n",
    "\n",
    "df = pd.DataFrame(data)\n",
    "\n",
    "# Independent variables (add constant for the intercept)\n",
    "X = sm.add_constant(df[['day_of_week', 'weather']])\n",
    "\n",
    "# Dependent variable\n",
    "y = df['patient_count']\n",
    "\n",
    "# Fit Poisson Regression Model\n",
    "poisson_model = sm.GLM(y, X, family=sm.families.Poisson()).fit()\n",
    "\n",
    "# Model summary\n",
    "print(poisson_model.summary())\n",
    "\n",
    "# Prediction for new data (Tuesday with sunny weather)\n",
    "new_data = pd.DataFrame({'const': [1], 'day_of_week': [2], 'weather': [1]})\n",
    "predicted_count = poisson_model.predict(new_data)\n",
    "print(f\"Predicted patient count for Tuesday (sunny): {predicted_count.iloc[0]:.2f}\")"
   ]
  },
  {
   "cell_type": "code",
   "execution_count": null,
   "id": "5fdea65b-22fd-47d2-b16d-eadb4377327a",
   "metadata": {},
   "outputs": [],
   "source": [
    "df=pd.read_csv('stdd.csv')\n",
    "df.info()"
   ]
  },
  {
   "cell_type": "code",
   "execution_count": null,
   "id": "dd880f50-8885-4a1d-ac8c-f2e973656648",
   "metadata": {},
   "outputs": [],
   "source": [
    "df.describe()"
   ]
  },
  {
   "cell_type": "code",
   "execution_count": null,
   "id": "aff7b4dd-e948-4c0f-8fbe-7fb9e4371f26",
   "metadata": {},
   "outputs": [],
   "source": [
    "from sklearn.preprocessing import StandardScaler\n",
    "from sklearn.linear_model import SGDRegressor\n",
    "\n",
    "#last column is the last variablae\n",
    "x=df.drop(['WorkHours'],axis=1)\n",
    "y=df['WorkHours']\n",
    "x_train,x_test,y_train,y_test=train_test_split(x,y,test_size=0.2,random_state=80)\n",
    "#scaling the data \n",
    "\n",
    "scale=StandardScaler()\n",
    "#  fit_transform()\n",
    "# \t•\tDono kaam karta hai: fit + transform\n",
    "# \t•\tFit: Data ke basis par scaler ke liye statistics calculate karta hai (jaise mean aur standard deviation for StandardScaler).\n",
    "# \t•\tTransform: Calculated statistics ko use karke data ko scale karta hai.\n",
    "\n",
    "x_train_scale=scale.fit_transform(x_train)\n",
    "x_test_scale=scale.transform(x_test)\n",
    "\n",
    "print(x_train_scale)\n"
   ]
  },
  {
   "cell_type": "code",
   "execution_count": null,
   "id": "27abf6fb-c287-4401-8961-abd0a5181908",
   "metadata": {},
   "outputs": [],
   "source": [
    "from sklearn.metrics import accuracy_score\n",
    "SGD=SGDRegressor(max_iter=1000,learning_rate='optimal',tol=0.0001)\n",
    "SGD.fit(x_train_scale,y_train)\n",
    "y_pred=SGD.predict(x_test_scale)\n",
    "mse = mean_squared_error(y_test, y_pred)\n",
    "print(\"Mean Squared Error:\", mse)"
   ]
  },
  {
   "cell_type": "code",
   "execution_count": null,
   "id": "71b786cb-b987-4493-96b4-e43a42c9951f",
   "metadata": {
    "scrolled": true
   },
   "outputs": [],
   "source": [
    "## perceptron\n",
    "\n",
    "df=pd.read_csv('stdd.csv')\n",
    "df.info()\n",
    "print(df.describe())\n"
   ]
  },
  {
   "cell_type": "code",
   "execution_count": null,
   "id": "c9d27b51-715b-4acb-b3c2-08d1e5162bd1",
   "metadata": {},
   "outputs": [],
   "source": [
    "df.head()\n"
   ]
  },
  {
   "cell_type": "code",
   "execution_count": null,
   "id": "5c7ab877-8c22-4921-b2ec-93905bdea960",
   "metadata": {},
   "outputs": [],
   "source": [
    "from sklearn.datasets import make_classification\n",
    "from sklearn.model_selection import train_test_split\n",
    "from sklearn.preprocessing import StandardScaler\n",
    "from sklearn.linear_model import Perceptron\n",
    "from sklearn.metrics import accuracy_score\n",
    "\n",
    "df['Work']= (df['WorkHours']>=6).astype(int)\n",
    "X=df.drop(['WorkHours','Work'],axis=1)\n",
    "\n",
    "print(df['Work'].unique())\n",
    "print(df['Work'].value_counts())\n",
    "y=df['Work']\n",
    "X_train,X_test,y_train,y_test=train_test_split(X,y,test_size=0.2,random_state=42)\n",
    "\n",
    "\n",
    "# Step 3: Scale the data (important for Perceptron)\n",
    "scaler = StandardScaler()\n",
    "X_train_scaled = scaler.fit_transform(X_train)\n",
    "X_test_scaled = scaler.transform(X_test)\n",
    "\n",
    "# Step 4: Train the Perceptron model\n",
    "perceptron = Perceptron(max_iter=1000, tol=1e-3, random_state=42,class_weight='balanced')\n",
    "perceptron.fit(X_train_scaled, y_train)\n",
    "\n",
    "# Step 5: Make predictions and evaluate the model\n",
    "y_pred = perceptron.predict(X_test_scaled)\n",
    "\n",
    "# Accuracy score\n",
    "accuracy = accuracy_score(y_test, y_pred)\n",
    "print(f\"Accuracy of Perceptron Model: {accuracy * 100:.2f}%\")\n"
   ]
  },
  {
   "cell_type": "markdown",
   "id": "8924a6f2-9590-4f46-89b8-0ae0353ffeba",
   "metadata": {},
   "source": [
    "## Passive aggressive classsifier"
   ]
  },
  {
   "cell_type": "code",
   "execution_count": null,
   "id": "2b1cb404-039b-46ab-a09e-3cea225835e9",
   "metadata": {},
   "outputs": [],
   "source": [
    "from sklearn.linear_model import PassiveAggressiveClassifier\n",
    "import matplotlib.pyplot as plt\n",
    "df=pd.read_csv('results.csv')\n",
    "df.head()"
   ]
  },
  {
   "cell_type": "code",
   "execution_count": null,
   "id": "c9e65df0-88ad-4c6e-9270-24d9e0a1f022",
   "metadata": {},
   "outputs": [],
   "source": [
    "df.describe()"
   ]
  },
  {
   "cell_type": "code",
   "execution_count": 30,
   "id": "ea6e9440-d192-432a-8465-5c48f7131fca",
   "metadata": {},
   "outputs": [
    {
     "name": "stdout",
     "output_type": "stream",
     "text": [
      "<class 'pandas.core.frame.DataFrame'>\n",
      "RangeIndex: 2000 entries, 0 to 1999\n",
      "Data columns (total 7 columns):\n",
      " #   Column          Non-Null Count  Dtype  \n",
      "---  ------          --------------  -----  \n",
      " 0   WorkoutTime     2000 non-null   float64\n",
      " 1   ReadingTime     2000 non-null   float64\n",
      " 2   PhoneTime       2000 non-null   float64\n",
      " 3   WorkHours       2000 non-null   float64\n",
      " 4   CaffeineIntake  2000 non-null   float64\n",
      " 5   RelaxationTime  2000 non-null   float64\n",
      " 6   SleepTime       2000 non-null   float64\n",
      "dtypes: float64(7)\n",
      "memory usage: 109.5 KB\n"
     ]
    }
   ],
   "source": [
    "df.info()\n"
   ]
  },
  {
   "cell_type": "code",
   "execution_count": 171,
   "id": "b92f91e1-376d-4756-a0f7-de956a9067cd",
   "metadata": {
    "scrolled": true
   },
   "outputs": [
    {
     "name": "stdout",
     "output_type": "stream",
     "text": [
      "0    245\n",
      "1    362\n",
      "2    352\n",
      "3    377\n",
      "4    255\n",
      "Name: Total, dtype: int64    Unnamed: 0  Hindi  English  Science  Maths  History  Geograpgy  Results  \\\n",
      "0           0     65       10       59      3       71         37        0   \n",
      "1           1     94       56        4     67       91         50        1   \n",
      "2           2      7       85       76     99       60         25        0   \n",
      "3           3     88       46       59     94       52         38        1   \n",
      "4           4     39       81       37     38        6         54        1   \n",
      "\n",
      "   Div  \n",
      "0    3  \n",
      "1    1  \n",
      "2    2  \n",
      "3    1  \n",
      "4    3  \n"
     ]
    }
   ],
   "source": [
    "x=df.drop(['Total'],axis=1)\n",
    "y=df['Total']\n",
    "print(y.head(),x.head())"
   ]
  },
  {
   "cell_type": "code",
   "execution_count": 191,
   "id": "01dc05fe-9e07-4c10-952c-8b4c1ad31027",
   "metadata": {},
   "outputs": [
    {
     "name": "stdout",
     "output_type": "stream",
     "text": [
      "Model Accuracy: 78.00%\n"
     ]
    }
   ],
   "source": [
    "x_train,x_test,y_train,y_test=train_test_split(x,y,test_size=0.2,random_state=42)\n",
    "\n",
    "#with scaling the data\n",
    "\n",
    "scale=StandardScaler()\n",
    "x_train_scale=scale.fit_transform(x_train)\n",
    "x_test_scale=scale.transform(x_test)\n",
    "\n",
    "#apply pac algo\n",
    "\n",
    "pac= PassiveAggressiveClassifier(max_iter=1000, tol=1e-3,)  #no required learning rate\n",
    "\n",
    "pac.fit(x_train_scale, y_train)\n",
    "\n",
    "y_pred=pac.predict(x_test_scale)\n",
    "\n",
    "acc=accuracy_score(y_test,y_pred)\n",
    "\n",
    "print(f\"Model Accuracy: {accuracy * 100:.2f}%\")\n"
   ]
  },
  {
   "cell_type": "code",
   "execution_count": 151,
   "id": "1582a7af-bfb4-4133-bec7-501b0d36dcd7",
   "metadata": {},
   "outputs": [
    {
     "name": "stdout",
     "output_type": "stream",
     "text": [
      "Model Accuracy: 78.00%\n"
     ]
    }
   ],
   "source": [
    "x_train,x_test,y_train,y_test=train_test_split(x,y,test_size=0.2,random_state=42)\n",
    "\n",
    "#without scaling\n",
    "#apply pac algo\n",
    "\n",
    "pac=PassiveAggressiveClassifier(max_iter=1000, tol=1e-3,)  #no required learning rate\n",
    "\n",
    "pac.fit(x_train, y_train)\n",
    "\n",
    "y_pred=pac.predict(x_test)\n",
    "\n",
    "acc=accuracy_score(y_test,y_pred)\n",
    "\n",
    "print(f\"Model Accuracy: {accuracy * 100:.2f}%\")\n",
    "\n"
   ]
  },
  {
   "cell_type": "code",
   "execution_count": 159,
   "id": "83f2eb82-8e7b-43d2-a279-757cce41832c",
   "metadata": {},
   "outputs": [
    {
     "data": {
      "image/png": "[encoded data removed]",
      "text/plain": [
       "<Figure size 640x480 with 1 Axes>"
      ]
     },
     "metadata": {},
     "output_type": "display_data"
    },
    {
     "name": "stdout",
     "output_type": "stream",
     "text": [
      "Predicted values: [1.50000109 2.50000032 3.49999956 4.4999988  5.49999804 6.49999727]\n"
     ]
    }
   ],
   "source": [
    "#robust regressor types\n",
    "\n",
    "from sklearn.linear_model import HuberRegressor\n",
    "import numpy as np\n",
    "import matplotlib.pyplot as plt\n",
    "\n",
    "# Example data (with an outlier)\n",
    "X = np.array([[1], [2], [3], [4], [5], [6]])\n",
    "y = np.array([1.5, 2.5, 3.5, 4.5, 100, 6])  # Notice the outlier (100)\n",
    "\n",
    "# Fit a Robust (Huber) Regressor model\n",
    "model = HuberRegressor()\n",
    "model.fit(X, y)\n",
    "\n",
    "# Predict\n",
    "y_pred = model.predict(X)\n",
    "\n",
    "# Plotting\n",
    "plt.scatter(X, y, color='blue', label='Data Points')\n",
    "plt.plot(X, y_pred, color='red', label='Huber Regression Line')\n",
    "plt.legend()\n",
    "plt.show()\n",
    "\n",
    "print(f\"Predicted values: {y_pred}\")"
   ]
  },
  {
   "cell_type": "code",
   "execution_count": null,
   "id": "292d1d9f-95a8-4020-a0c1-c17b0ce11449",
   "metadata": {},
   "outputs": [],
   "source": [
    "from sklearn.linear_model import RANSACRegressor\n",
    "import numpy as np\n",
    "import matplotlib.pyplot as plt\n",
    "\n",
    "# Example data (with an outlier)\n",
    "X = np.array([[1], [2], [3], [4], [5], [6]])\n",
    "y = np.array([1.5, 2.5, 3.5, 4.5, 100, 6])  # Notice the outlier (100)\n",
    "\n",
    "# Fit a Robust (RANSAC) Regressor model\n",
    "ransac = RANSACRegressor()\n",
    "ransac.fit(X, y)\n",
    "\n",
    "# Predict\n",
    "y_pred = ransac.predict(X)\n",
    "\n",
    "# Plotting\n",
    "plt.scatter(X, y, color='blue', label='Data Points')\n",
    "plt.plot(X, y_pred, color='red', label='RANSAC Regression Line')\n",
    "plt.legend()\n",
    "plt.show()\n",
    "\n",
    "print(f\"Predicted values: {y_pred}\")"
   ]
  },
  {
   "cell_type": "code",
   "execution_count": 161,
   "id": "61cc55ad-0b30-4333-a931-c29b8c728a5b",
   "metadata": {},
   "outputs": [
    {
     "data": {
      "image/png": "[encoded data removed]",
      "text/plain": [
       "<Figure size 640x480 with 1 Axes>"
      ]
     },
     "metadata": {},
     "output_type": "display_data"
    },
    {
     "name": "stdout",
     "output_type": "stream",
     "text": [
      "Predicted values: [ 1.49975335  2.50019388  3.5006344   4.50107493  5.50151546  6.50195599\n",
      " 10.5037181 ]\n"
     ]
    }
   ],
   "source": [
    "from sklearn.linear_model import TheilSenRegressor\n",
    "import numpy as np\n",
    "import matplotlib.pyplot as plt\n",
    "\n",
    "# Example data (with an outlier)\n",
    "X = np.array([[1], [2], [3], [4], [5], [6],[10]])\n",
    "y = np.array([1.5, 2.5, 3.5, 4.5, 100, 6, 25])  # Notice the outlier (100)\n",
    "\n",
    "# Fit a Robust (Theil-Sen) Regressor model\n",
    "model = TheilSenRegressor()\n",
    "model.fit(X, y)\n",
    "\n",
    "# Predict\n",
    "y_pred = model.predict(X)\n",
    "\n",
    "# Plotting\n",
    "plt.scatter(X, y, color='blue', label='Data Points')\n",
    "plt.plot(X, y_pred, color='red', label='Theil-Sen Regression Line')\n",
    "plt.legend()\n",
    "plt.show()\n",
    "\n",
    "print(f\"Predicted values: {y_pred}\")"
   ]
  },
  {
   "cell_type": "code",
   "execution_count": 1,
   "id": "887db6b1-3159-407b-89d4-c37d9c2829fc",
   "metadata": {},
   "outputs": [
    {
     "data": {
      "image/png": "[encoded data removed]",
      "text/plain": [
       "<Figure size 640x480 with 1 Axes>"
      ]
     },
     "metadata": {},
     "output_type": "display_data"
    }
   ],
   "source": [
    "import numpy as np\n",
    "import matplotlib.pyplot as plt\n",
    "from sklearn.linear_model import LinearRegression\n",
    "from sklearn.preprocessing import PolynomialFeatures\n",
    "from sklearn.model_selection import train_test_split\n",
    "\n",
    "# Example data\n",
    "x = np.array([1, 2, 3, 4,4.5, 5, 6,7]).reshape(-1, 1)  # Independent variable (Features)\n",
    "y = np.array([1, 4, 9, 16, 6,25, 36,40])  # Dependent variable (Labels)\n",
    "\n",
    "# Step 1: Create polynomial features\n",
    "poly = PolynomialFeatures(degree=2)  # Degree 2 polynomial (you can increase this)\n",
    "x_poly = poly.fit_transform(x)\n",
    "\n",
    "# Step 2: Train the model using Polynomial Regression\n",
    "model = LinearRegression()\n",
    "model.fit(x_poly, y)\n",
    "\n",
    "# Step 3: Predictions\n",
    "y_pred = model.predict(x_poly)\n",
    "\n",
    "# Step 4: Plotting\n",
    "plt.scatter(x, y, color='blue', label='Data Points')\n",
    "plt.plot(x, y_pred, color='red', label='Polynomial Fit (degree=2)')\n",
    "plt.xlabel('X')\n",
    "plt.ylabel('Y')\n",
    "plt.legend()\n",
    "plt.title('Polynomial Regression')\n",
    "plt.show()"
   ]
  },
  {
   "cell_type": "code",
   "execution_count": null,
   "id": "44070eb1-8545-4b4b-8698-a0f1d462cf7e",
   "metadata": {},
   "outputs": [],
   "source": []
  }
 ],
 "metadata": {
  "kernelspec": {
   "display_name": "Python 3 (ipykernel)",
   "language": "python",
   "name": "python3"
  },
  "language_info": {
   "codemirror_mode": {
    "name": "ipython",
    "version": 3
   },
   "file_extension": ".py",
   "mimetype": "text/x-python",
   "name": "python",
   "nbconvert_exporter": "python",
   "pygments_lexer": "ipython3",
   "version": "3.12.7"
  }
 },
 "nbformat": 4,
 "nbformat_minor": 5
}
